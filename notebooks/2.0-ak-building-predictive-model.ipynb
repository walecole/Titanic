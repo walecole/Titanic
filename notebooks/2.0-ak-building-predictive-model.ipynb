{
 "metadata": {
  "language_info": {
   "codemirror_mode": {
    "name": "ipython",
    "version": 3
   },
   "file_extension": ".py",
   "mimetype": "text/x-python",
   "name": "python",
   "nbconvert_exporter": "python",
   "pygments_lexer": "ipython3",
   "version": "3.6.11-final"
  },
  "orig_nbformat": 2,
  "kernelspec": {
   "name": "python_defaultSpec_1600358127646",
   "display_name": "Python 3.6.11 64-bit ('base': conda)"
  }
 },
 "nbformat": 4,
 "nbformat_minor": 2,
 "cells": [
  {
   "cell_type": "code",
   "execution_count": 1,
   "metadata": {},
   "outputs": [],
   "source": [
    "import pandas as pd\n",
    "import os\n",
    "import numpy as np"
   ]
  },
  {
   "cell_type": "code",
   "execution_count": 2,
   "metadata": {},
   "outputs": [],
   "source": [
    "#Import data\n",
    "processed_data_path = os.path.join(os.path.pardir,'data','processed')\n",
    "train_file_path = os.path.join(processed_data_path, 'train.csv')\n",
    "test_file_path = os.path.join(processed_data_path,'test.csv')"
   ]
  },
  {
   "cell_type": "code",
   "execution_count": 3,
   "metadata": {},
   "outputs": [],
   "source": [
    "train_df = pd.read_csv(train_file_path,index_col='PassengerId')\n",
    "test_df = pd.read_csv(test_file_path,index_col='PassengerId')"
   ]
  },
  {
   "cell_type": "code",
   "execution_count": 4,
   "metadata": {
    "tags": []
   },
   "outputs": [
    {
     "output_type": "stream",
     "name": "stdout",
     "text": "<class 'pandas.core.frame.DataFrame'>\nInt64Index: 891 entries, 1 to 891\nData columns (total 33 columns):\n #   Column              Non-Null Count  Dtype  \n---  ------              --------------  -----  \n 0   Survived            891 non-null    int64  \n 1   Age                 891 non-null    float64\n 2   Fare                891 non-null    float64\n 3   FamilySize          891 non-null    int64  \n 4   IsMother            891 non-null    int64  \n 5   IsMale              891 non-null    int64  \n 6   Deck_A              891 non-null    int64  \n 7   Deck_B              891 non-null    int64  \n 8   Deck_C              891 non-null    int64  \n 9   Deck_D              891 non-null    int64  \n 10  Deck_E              891 non-null    int64  \n 11  Deck_F              891 non-null    int64  \n 12  Deck_G              891 non-null    int64  \n 13  Deck_Z              891 non-null    int64  \n 14  Pclass_1            891 non-null    int64  \n 15  Pclass_2            891 non-null    int64  \n 16  Pclass_3            891 non-null    int64  \n 17  Title_Lady          891 non-null    int64  \n 18  Title_Master        891 non-null    int64  \n 19  Title_Miss          891 non-null    int64  \n 20  Title_Mr            891 non-null    int64  \n 21  Title_Mrs           891 non-null    int64  \n 22  Title_Officer       891 non-null    int64  \n 23  Title_Sir           891 non-null    int64  \n 24  Fare_Bin_very_low   891 non-null    int64  \n 25  Fare_Bin_low        891 non-null    int64  \n 26  Fare_Bin_high       891 non-null    int64  \n 27  Fare_Bin_very_high  891 non-null    int64  \n 28  Embarked_C          891 non-null    int64  \n 29  Embarked_Q          891 non-null    int64  \n 30  Embarked_S          891 non-null    int64  \n 31  AgeState_Adult      891 non-null    int64  \n 32  AgeState_Child      891 non-null    int64  \ndtypes: float64(2), int64(31)\nmemory usage: 236.7 KB\n"
    }
   ],
   "source": [
    "train_df.info()"
   ]
  },
  {
   "cell_type": "code",
   "execution_count": 5,
   "metadata": {
    "tags": []
   },
   "outputs": [
    {
     "output_type": "stream",
     "name": "stdout",
     "text": "<class 'pandas.core.frame.DataFrame'>\nInt64Index: 418 entries, 892 to 1309\nData columns (total 32 columns):\n #   Column              Non-Null Count  Dtype  \n---  ------              --------------  -----  \n 0   Age                 418 non-null    float64\n 1   Fare                418 non-null    float64\n 2   FamilySize          418 non-null    int64  \n 3   IsMother            418 non-null    int64  \n 4   IsMale              418 non-null    int64  \n 5   Deck_A              418 non-null    int64  \n 6   Deck_B              418 non-null    int64  \n 7   Deck_C              418 non-null    int64  \n 8   Deck_D              418 non-null    int64  \n 9   Deck_E              418 non-null    int64  \n 10  Deck_F              418 non-null    int64  \n 11  Deck_G              418 non-null    int64  \n 12  Deck_Z              418 non-null    int64  \n 13  Pclass_1            418 non-null    int64  \n 14  Pclass_2            418 non-null    int64  \n 15  Pclass_3            418 non-null    int64  \n 16  Title_Lady          418 non-null    int64  \n 17  Title_Master        418 non-null    int64  \n 18  Title_Miss          418 non-null    int64  \n 19  Title_Mr            418 non-null    int64  \n 20  Title_Mrs           418 non-null    int64  \n 21  Title_Officer       418 non-null    int64  \n 22  Title_Sir           418 non-null    int64  \n 23  Fare_Bin_very_low   418 non-null    int64  \n 24  Fare_Bin_low        418 non-null    int64  \n 25  Fare_Bin_high       418 non-null    int64  \n 26  Fare_Bin_very_high  418 non-null    int64  \n 27  Embarked_C          418 non-null    int64  \n 28  Embarked_Q          418 non-null    int64  \n 29  Embarked_S          418 non-null    int64  \n 30  AgeState_Adult      418 non-null    int64  \n 31  AgeState_Child      418 non-null    int64  \ndtypes: float64(2), int64(30)\nmemory usage: 127.8 KB\n"
    }
   ],
   "source": [
    "test_df.info()"
   ]
  },
  {
   "cell_type": "code",
   "execution_count": 13,
   "metadata": {},
   "outputs": [],
   "source": [
    "#Data Preparation\n",
    "X = train_df.loc[:,'Age':].values.astype(float)\n",
    "y = train_df['Survived'].ravel()"
   ]
  },
  {
   "cell_type": "code",
   "execution_count": 14,
   "metadata": {
    "tags": []
   },
   "outputs": [
    {
     "output_type": "stream",
     "name": "stdout",
     "text": "(891, 32) (891,)\n"
    }
   ],
   "source": [
    "print(X.shape, y.shape)"
   ]
  },
  {
   "cell_type": "code",
   "execution_count": 15,
   "metadata": {
    "tags": []
   },
   "outputs": [
    {
     "output_type": "stream",
     "name": "stdout",
     "text": "(712, 32) (712,)\n(179, 32) (179,)\n"
    }
   ],
   "source": [
    "#train test split\n",
    "from sklearn.model_selection import train_test_split\n",
    "X_train, X_test, y_train, y_test = train_test_split(X, y, test_size=0.2, random_state=0)\n",
    "print(X_train.shape, y_train.shape)\n",
    "print(X_test.shape, y_test.shape)"
   ]
  },
  {
   "cell_type": "code",
   "execution_count": 16,
   "metadata": {
    "tags": []
   },
   "outputs": [
    {
     "output_type": "stream",
     "name": "stdout",
     "text": "mean survival in train : 0.383\nmean survival in test : 0.385\n"
    }
   ],
   "source": [
    "# average survival in train and test\n",
    "print('mean survival in train : {0:.3f}'.format(np.mean(y_train)))\n",
    "print('mean survival in test : {0:.3f}'.format(np.mean(y_test)))"
   ]
  },
  {
   "cell_type": "code",
   "execution_count": 17,
   "metadata": {},
   "outputs": [],
   "source": [
    "#Baseline Model\n",
    "from sklearn.dummy import DummyClassifier"
   ]
  },
  {
   "cell_type": "code",
   "execution_count": 21,
   "metadata": {},
   "outputs": [],
   "source": [
    "#create model\n",
    "model_dummy = DummyClassifier(strategy='most_frequent', random_state=0)"
   ]
  },
  {
   "cell_type": "code",
   "execution_count": 22,
   "metadata": {},
   "outputs": [
    {
     "output_type": "execute_result",
     "data": {
      "text/plain": "DummyClassifier(random_state=0, strategy='most_frequent')"
     },
     "metadata": {},
     "execution_count": 22
    }
   ],
   "source": [
    "# train model\n",
    "model_dummy.fit(X_train, y_train)"
   ]
  },
  {
   "cell_type": "code",
   "execution_count": 25,
   "metadata": {
    "tags": []
   },
   "outputs": [
    {
     "output_type": "stream",
     "name": "stdout",
     "text": "score for baseline model : 0.6145251396648045\nscore for baseline model : 0.61\n"
    }
   ],
   "source": [
    "#print baseline score\n",
    "print(f'score for baseline model : {model_dummy.score(X_test, y_test)}')\n",
    "print('score for baseline model : {0:.2f}'.format(model_dummy.score(X_test, y_test)))"
   ]
  },
  {
   "cell_type": "code",
   "execution_count": 27,
   "metadata": {},
   "outputs": [],
   "source": [
    "#peformance metrics\n",
    "from sklearn.metrics import accuracy_score, confusion_matrix, precision_score, recall_score"
   ]
  },
  {
   "cell_type": "code",
   "execution_count": 28,
   "metadata": {
    "tags": []
   },
   "outputs": [
    {
     "output_type": "stream",
     "name": "stdout",
     "text": "accuracy for baseline model : 0.61\n"
    }
   ],
   "source": [
    "# accuracy score\n",
    "print('accuracy for baseline model : {0:.2f}'.format(accuracy_score(y_test, model_dummy.predict(X_test))))"
   ]
  },
  {
   "cell_type": "code",
   "execution_count": 29,
   "metadata": {
    "tags": []
   },
   "outputs": [
    {
     "output_type": "stream",
     "name": "stdout",
     "text": "confusion matrix for baseline model: \n [[110   0]\n [ 69   0]]\n"
    }
   ],
   "source": [
    "# confusion matrix\n",
    "print('confusion matrix for baseline model: \\n {0}'.format(confusion_matrix(y_test, model_dummy.predict(X_test))))"
   ]
  },
  {
   "cell_type": "code",
   "execution_count": 30,
   "metadata": {
    "tags": []
   },
   "outputs": [
    {
     "output_type": "stream",
     "name": "stdout",
     "text": "precision for baseline model : 0.00\nrecall for baseline model : 0.00\n"
    }
   ],
   "source": [
    "# precision and recall scores\n",
    "print('precision for baseline model : {0:.2f}'.format(precision_score(y_test, model_dummy.predict(X_test))))\n",
    "print('recall for baseline model : {0:.2f}'.format(recall_score(y_test, model_dummy.predict(X_test))))"
   ]
  },
  {
   "cell_type": "code",
   "execution_count": null,
   "metadata": {},
   "outputs": [],
   "source": []
  },
  {
   "cell_type": "code",
   "execution_count": null,
   "metadata": {},
   "outputs": [],
   "source": []
  },
  {
   "cell_type": "code",
   "execution_count": null,
   "metadata": {},
   "outputs": [],
   "source": []
  },
  {
   "cell_type": "code",
   "execution_count": null,
   "metadata": {},
   "outputs": [],
   "source": []
  },
  {
   "cell_type": "code",
   "execution_count": null,
   "metadata": {},
   "outputs": [],
   "source": []
  }
 ]
}